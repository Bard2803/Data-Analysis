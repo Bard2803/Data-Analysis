{
 "cells": [
  {
   "cell_type": "markdown",
   "id": "2c88a3d3",
   "metadata": {},
   "source": [
    "#### Jupyter notebook where I obtain data straight from the YT API\n",
    "\n",
    "Made basing on:\n",
    "https://www.youtube.com/watch?v=fklHBWow8vE"
   ]
  },
  {
   "cell_type": "code",
   "execution_count": 1,
   "id": "9c1fd399",
   "metadata": {},
   "outputs": [],
   "source": [
    "# Import relevant libraries\n",
    "\n",
    "import requests\n",
    "import pandas as pd\n",
    "import time\n",
    "import matplotlib.pyplot as plt"
   ]
  },
  {
   "cell_type": "code",
   "execution_count": 2,
   "id": "8940165b",
   "metadata": {},
   "outputs": [],
   "source": [
    "# Assign keys to variables\n",
    "\n",
    "API_KEY = \"\"  #insert API key here. Stays empty not to reveal it.\n",
    "CHANNEL_ID = \"UCZP_DXnKgfs_ZX3RHVmu6qQ\""
   ]
  },
  {
   "cell_type": "code",
   "execution_count": 3,
   "id": "03591da2",
   "metadata": {},
   "outputs": [],
   "source": [
    "def get_video_details(video_id): \n",
    "    # Make another API call nested in first\n",
    "    url_video_stats = \"https://www.googleapis.com/youtube/v3/videos?id=\" + video_id + \"&part=statistics&key=\" + API_KEY \n",
    "    response_video_stats = requests.get(url_video_stats).json()\n",
    "    \n",
    "    parameters = [\"viewCount\", \"likeCount\", \"favoriteCount\", \"commentCount\"]\n",
    "    variables = []\n",
    "    for parameter in parameters:\n",
    "        try:\n",
    "            variables.append(response_video_stats[\"items\"][0][\"statistics\"][parameter])\n",
    "        except IndexError:\n",
    "            variables.append(\"\")\n",
    "    return variables[0], variables[1], variables[2], variables[3]"
   ]
  },
  {
   "cell_type": "code",
   "execution_count": 4,
   "id": "62fc65ff",
   "metadata": {},
   "outputs": [],
   "source": [
    "def get_videos(df):\n",
    "    # Make API calls. \n",
    "    # pageToken allows to go through all the pages of the search result call\n",
    "\n",
    "    pageToken = \"\"\n",
    "    url = \"https://www.googleapis.com/youtube/v3/search?key=\" + API_KEY + \"&channelId=\" + CHANNEL_ID + \"&part=snippet, id&order=date\" + pageToken\n",
    "    response = requests.get(url).json()\n",
    "    # Give it some time to get the API call\n",
    "    time.sleep(1)\n",
    "\n",
    "    # Process data\n",
    "    i = 0\n",
    "    for video in response[\"items\"]:\n",
    "        video_id = video[\"id\"].get(\"videoId\", \"\")\n",
    "        video_title = video[\"snippet\"][\"title\"]\n",
    "        upload_date = video[\"snippet\"][\"publishTime\"]\n",
    "        upload_date = str(upload_date).split(\"T\")[0]\n",
    "\n",
    "        view_count, like_count, favorite_count, comment_count = get_video_details(video_id)\n",
    "\n",
    "        # Append data to pd dataFrame\n",
    "        it_df = pd.DataFrame(data={\"video_id\": video_id, \"video_title\": video_title,\n",
    "                       \"upload_date\": upload_date, \"view_count\": view_count,\n",
    "                        \"like_count\": like_count, \"favorite_count\": favorite_count,\n",
    "                       \"comment_count\": comment_count}, index=[i])\n",
    "        df = pd.concat([df, it_df])\n",
    "        i+=1\n",
    "        \n",
    "    return df"
   ]
  },
  {
   "cell_type": "code",
   "execution_count": 5,
   "id": "ed9ed151",
   "metadata": {},
   "outputs": [
    {
     "name": "stdout",
     "output_type": "stream",
     "text": [
      "      video_id                                        video_title upload_date  \\\n",
      "0  B5Kb4-02oE4  Smażony arbuz z sosem tuńczykowym i będący dri...  2022-09-22   \n",
      "1  BNBVn5pBEcg  Czy Robert Sowa oszalał!? Sprawdzam przepis na...  2022-09-08   \n",
      "2  Rucg5n5PkzM  Drugie najlepsze ciasto świata - VALASKYY FRGA...  2022-09-01   \n",
      "3  UQ7hdC7c8go        Masochista 75 - &quot;Młode wilki 1/2&quot;  2022-08-25   \n",
      "4  6hUHT_C8Ofk  Czy JAPOŃSKI SERNIK faktycznie jest lepszy od ...  2022-08-03   \n",
      "\n",
      "  view_count like_count favorite_count comment_count  \n",
      "0     172823      10359              0           535  \n",
      "1     180340      10035              0           731  \n",
      "2     203390      10322              0          1138  \n",
      "3     357035      12330              0          1497  \n",
      "4     292605      13521              0           839  \n",
      "(5, 7)\n"
     ]
    }
   ],
   "source": [
    "# Build pandas dataframe with empty columns that are named as follows\n",
    "\n",
    "df = pd.DataFrame(columns = [\"video_id\", \"video_title\", \"upload_date\", \"view_count\", \"like_count\", \"favorite_count\", \"comment_count\"])\n",
    "\n",
    "# Trigger the functions to get data\n",
    "\n",
    "df = get_videos(df)\n",
    "\n",
    "print(df.head())\n",
    "print(df.shape)"
   ]
  },
  {
   "cell_type": "markdown",
   "id": "4a7f6240",
   "metadata": {},
   "source": [
    "#### Data Playground"
   ]
  },
  {
   "cell_type": "code",
   "execution_count": 10,
   "id": "1fd8a37d",
   "metadata": {},
   "outputs": [
    {
     "data": {
      "text/html": [
       "<div>\n",
       "<style scoped>\n",
       "    .dataframe tbody tr th:only-of-type {\n",
       "        vertical-align: middle;\n",
       "    }\n",
       "\n",
       "    .dataframe tbody tr th {\n",
       "        vertical-align: top;\n",
       "    }\n",
       "\n",
       "    .dataframe thead th {\n",
       "        text-align: right;\n",
       "    }\n",
       "</style>\n",
       "<table border=\"1\" class=\"dataframe\">\n",
       "  <thead>\n",
       "    <tr style=\"text-align: right;\">\n",
       "      <th></th>\n",
       "      <th>video_id</th>\n",
       "      <th>video_title</th>\n",
       "      <th>upload_date</th>\n",
       "      <th>view_count</th>\n",
       "      <th>like_count</th>\n",
       "      <th>favorite_count</th>\n",
       "      <th>comment_count</th>\n",
       "    </tr>\n",
       "  </thead>\n",
       "  <tbody>\n",
       "    <tr>\n",
       "      <th>0</th>\n",
       "      <td>6hUHT_C8Ofk</td>\n",
       "      <td>Czy JAPOŃSKI SERNIK faktycznie jest lepszy od ...</td>\n",
       "      <td>2022-08-03</td>\n",
       "      <td>292605</td>\n",
       "      <td>13521</td>\n",
       "      <td>0</td>\n",
       "      <td>839</td>\n",
       "    </tr>\n",
       "    <tr>\n",
       "      <th>1</th>\n",
       "      <td>UQ7hdC7c8go</td>\n",
       "      <td>Masochista 75 - &amp;quot;Młode wilki 1/2&amp;quot;</td>\n",
       "      <td>2022-08-25</td>\n",
       "      <td>357035</td>\n",
       "      <td>12330</td>\n",
       "      <td>0</td>\n",
       "      <td>1497</td>\n",
       "    </tr>\n",
       "    <tr>\n",
       "      <th>2</th>\n",
       "      <td>Rucg5n5PkzM</td>\n",
       "      <td>Drugie najlepsze ciasto świata - VALASKYY FRGA...</td>\n",
       "      <td>2022-09-01</td>\n",
       "      <td>203390</td>\n",
       "      <td>10322</td>\n",
       "      <td>0</td>\n",
       "      <td>1138</td>\n",
       "    </tr>\n",
       "    <tr>\n",
       "      <th>3</th>\n",
       "      <td>BNBVn5pBEcg</td>\n",
       "      <td>Czy Robert Sowa oszalał!? Sprawdzam przepis na...</td>\n",
       "      <td>2022-09-08</td>\n",
       "      <td>180340</td>\n",
       "      <td>10035</td>\n",
       "      <td>0</td>\n",
       "      <td>731</td>\n",
       "    </tr>\n",
       "    <tr>\n",
       "      <th>4</th>\n",
       "      <td>B5Kb4-02oE4</td>\n",
       "      <td>Smażony arbuz z sosem tuńczykowym i będący dri...</td>\n",
       "      <td>2022-09-22</td>\n",
       "      <td>172823</td>\n",
       "      <td>10359</td>\n",
       "      <td>0</td>\n",
       "      <td>535</td>\n",
       "    </tr>\n",
       "  </tbody>\n",
       "</table>\n",
       "</div>"
      ],
      "text/plain": [
       "      video_id                                        video_title upload_date  \\\n",
       "0  6hUHT_C8Ofk  Czy JAPOŃSKI SERNIK faktycznie jest lepszy od ...  2022-08-03   \n",
       "1  UQ7hdC7c8go        Masochista 75 - &quot;Młode wilki 1/2&quot;  2022-08-25   \n",
       "2  Rucg5n5PkzM  Drugie najlepsze ciasto świata - VALASKYY FRGA...  2022-09-01   \n",
       "3  BNBVn5pBEcg  Czy Robert Sowa oszalał!? Sprawdzam przepis na...  2022-09-08   \n",
       "4  B5Kb4-02oE4  Smażony arbuz z sosem tuńczykowym i będący dri...  2022-09-22   \n",
       "\n",
       "  view_count like_count favorite_count comment_count  \n",
       "0     292605      13521              0           839  \n",
       "1     357035      12330              0          1497  \n",
       "2     203390      10322              0          1138  \n",
       "3     180340      10035              0           731  \n",
       "4     172823      10359              0           535  "
      ]
     },
     "execution_count": 10,
     "metadata": {},
     "output_type": "execute_result"
    }
   ],
   "source": [
    "# Sort values by date\n",
    "\n",
    "df = df.sort_values([\"upload_date\"], ignore_index=True)\n",
    "df.head()"
   ]
  },
  {
   "cell_type": "code",
   "execution_count": 16,
   "id": "74dfd3d7",
   "metadata": {},
   "outputs": [
    {
     "data": {
      "image/png": "[encoded data removed]",
      "text/plain": [
       "<Figure size 640x480 with 1 Axes>"
      ]
     },
     "metadata": {},
     "output_type": "display_data"
    }
   ],
   "source": [
    "# Plot number of likes vs upload_date\n",
    "fig, ax = plt.subplots()\n",
    "ax.invert_yaxis()\n",
    "\n",
    "ax.plot(df[\"upload_date\"], df[\"like_count\"])\n",
    "plt.show()"
   ]
  }
 ],
 "metadata": {
  "kernelspec": {
   "display_name": "Python 3 (ipykernel)",
   "language": "python",
   "name": "python3"
  },
  "language_info": {
   "codemirror_mode": {
    "name": "ipython",
    "version": 3
   },
   "file_extension": ".py",
   "mimetype": "text/x-python",
   "name": "python",
   "nbconvert_exporter": "python",
   "pygments_lexer": "ipython3",
   "version": "3.9.13"
  }
 },
 "nbformat": 4,
 "nbformat_minor": 5
}
